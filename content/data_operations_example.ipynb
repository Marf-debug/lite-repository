{
 "cells": [
  {
   "cell_type": "markdown",
   "id": "30033cfd",
   "metadata": {},
   "source": [
    "# Data Transformation Operations in Python\n",
    "This notebook demonstrates common data manipulation operations using a fictional dataset `pathology_test_data`. Each section includes an explanation and a code example."
   ]
  },
  {
   "cell_type": "markdown",
   "id": "bf90937c",
   "metadata": {},
   "source": [
    "## Filter\n",
    "Filtering a dataset means selecting rows that satisfy a logical condition."
   ]
  },
  {
   "cell_type": "code",
   "execution_count": null,
   "id": "cea5c2e2",
   "metadata": {},
   "outputs": [],
   "source": [
    "# Example: Filter rows where blood_test_name equals 'Haemoglobin' and year is 2010\n",
    "import pandas as pd\n",
    "\n",
    "# Sample data\n",
    "data = {\n",
    "    'date': pd.to_datetime(['2010-01-01', '2011-06-23', '2010-07-15']),\n",
    "    'blood_test_name': ['Haemoglobin', 'Cholesterol', 'Haemoglobin'],\n",
    "    'blood_test_result': [13.5, 5.2, 14.0]\n",
    "}\n",
    "pathology_test_data = pd.DataFrame(data)\n",
    "\n",
    "# Filter\n",
    "filtered_data = pathology_test_data[\n",
    "    (pathology_test_data['date'].dt.year == 2010) &\n",
    "    (pathology_test_data['blood_test_name'] == 'Haemoglobin')\n",
    "]\n",
    "filtered_data"
   ]
  },
  {
   "cell_type": "markdown",
   "id": "6c4b09eb",
   "metadata": {},
   "source": [
    "## Select\n",
    "Select a subset of columns from the dataset."
   ]
  },
  {
   "cell_type": "code",
   "execution_count": null,
   "id": "847b1add",
   "metadata": {},
   "outputs": [],
   "source": [
    "# Select specific columns\n",
    "selected_data = pathology_test_data[['blood_test_name', 'blood_test_result']]\n",
    "selected_data"
   ]
  },
  {
   "cell_type": "markdown",
   "id": "b6d17b59",
   "metadata": {},
   "source": [
    "## Functions\n",
    "A function takes inputs and produces a defined output. For example, a function to calculate BMI:"
   ]
  },
  {
   "cell_type": "code",
   "execution_count": null,
   "id": "50377806",
   "metadata": {},
   "outputs": [],
   "source": [
    "# Function to calculate BMI\n",
    "def calculate_bmi(weight, height):\n",
    "    return weight / (height ** 2)\n",
    "\n",
    "# Example\n",
    "calculate_bmi(70, 1.75)"
   ]
  },
  {
   "cell_type": "markdown",
   "id": "5769e0b3",
   "metadata": {},
   "source": [
    "## Group By\n",
    "Group data by a column and aggregate values within each group."
   ]
  },
  {
   "cell_type": "code",
   "execution_count": null,
   "id": "97b5cc2e",
   "metadata": {},
   "outputs": [],
   "source": [
    "# Group by blood_test_name and get the max result\n",
    "grouped = pathology_test_data.groupby('blood_test_name')['blood_test_result'].max()\n",
    "grouped"
   ]
  },
  {
   "cell_type": "markdown",
   "id": "dd198804",
   "metadata": {},
   "source": [
    "## Sort\n",
    "Sort the dataset by a specific column."
   ]
  },
  {
   "cell_type": "code",
   "execution_count": null,
   "id": "cce6e9fd",
   "metadata": {},
   "outputs": [],
   "source": [
    "# Sort by date in ascending order\n",
    "sorted_data = pathology_test_data.sort_values(by='date', ascending=True)\n",
    "sorted_data"
   ]
  },
  {
   "cell_type": "markdown",
   "id": "4b3b0714",
   "metadata": {},
   "source": [
    "## Add Columns\n",
    "Add a new column derived from existing columns."
   ]
  },
  {
   "cell_type": "code",
   "execution_count": null,
   "id": "2ffe64bb",
   "metadata": {},
   "outputs": [],
   "source": [
    "# Add a new column with the month name\n",
    "pathology_test_data['month_name'] = pathology_test_data['date'].dt.month_name()\n",
    "pathology_test_data"
   ]
  },
  {
   "cell_type": "markdown",
   "id": "2f0c51f1",
   "metadata": {},
   "source": [
    "## Join\n",
    "Join two datasets on a common key."
   ]
  },
  {
   "cell_type": "code",
   "execution_count": null,
   "id": "62a520f2",
   "metadata": {},
   "outputs": [],
   "source": [
    "# Create sample postcode dataset\n",
    "postcodes = pd.DataFrame({\n",
    "    'patientid': [1, 2, 3],\n",
    "    'postcode': ['2000', '3000', '4000']\n",
    "})\n",
    "\n",
    "# Add patientid to pathology_test_data for join example\n",
    "pathology_test_data['patientid'] = [1, 2, 3]\n",
    "\n",
    "# Left Join\n",
    "left_join = pathology_test_data.merge(postcodes, how='left', on='patientid')\n",
    "left_join"
   ]
  },
  {
   "cell_type": "code",
   "execution_count": null,
   "id": "0eba2d8d",
   "metadata": {},
   "outputs": [],
   "source": [
    "# Right Join\n",
    "right_join = pathology_test_data.merge(postcodes, how='right', on='patientid')\n",
    "right_join"
   ]
  },
  {
   "cell_type": "code",
   "execution_count": null,
   "id": "44bb4806",
   "metadata": {},
   "outputs": [],
   "source": [
    "# Inner Join\n",
    "inner_join = pathology_test_data.merge(postcodes, how='inner', on='patientid')\n",
    "inner_join"
   ]
  },
  {
   "cell_type": "code",
   "execution_count": null,
   "id": "95880441",
   "metadata": {},
   "outputs": [],
   "source": [
    "# Outer Join\n",
    "outer_join = pathology_test_data.merge(postcodes, how='outer', on='patientid')\n",
    "outer_join"
   ]
  }
 ],
 "metadata": {},
 "nbformat": 4,
 "nbformat_minor": 5
}